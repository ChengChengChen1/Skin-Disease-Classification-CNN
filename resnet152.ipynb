{
  "cells": [
    {
      "cell_type": "code",
      "execution_count": 1,
      "id": "35d4e5gggd2D",
      "metadata": {
        "id": "35d4e5gggd2D"
      },
      "outputs": [],
      "source": [
        "%load_ext autoreload\n",
        "%autoreload 2"
      ]
    },
    {
      "cell_type": "code",
      "execution_count": 2,
      "id": "8sxZ-srrgh32",
      "metadata": {
        "colab": {
          "base_uri": "https://localhost:8080/"
        },
        "id": "8sxZ-srrgh32",
        "outputId": "a69c068a-7e96-483a-ea5c-72d2f0c4b63a"
      },
      "outputs": [
        {
          "output_type": "stream",
          "name": "stdout",
          "text": [
            "Mounted at /content/drive\n"
          ]
        }
      ],
      "source": [
        "from google.colab import drive\n",
        "drive.mount('/content/drive')"
      ]
    },
    {
      "cell_type": "code",
      "execution_count": 3,
      "id": "v_nxBaWUgnyh",
      "metadata": {
        "colab": {
          "base_uri": "https://localhost:8080/"
        },
        "id": "v_nxBaWUgnyh",
        "outputId": "35c4573b-885f-4921-f972-6ddb9583fc04"
      },
      "outputs": [
        {
          "output_type": "stream",
          "name": "stdout",
          "text": [
            "['.DS_Store', 'Eczema', 'Carcinoma', 'Acne', 'Milia', 'Keratosis', 'Rosacea']\n"
          ]
        }
      ],
      "source": [
        "import os\n",
        "\n",
        "# TODO: Fill in the Google Drive path where you uploaded the assignment\n",
        "# Example: If you create a 2020FA folder and put all the files under A1 folder, then '2020FA/A1'\n",
        "# GOOGLE_DRIVE_PATH_AFTER_MYDRIVE = '2020FA/A1'\n",
        "GOOGLE_DRIVE_PATH_AFTER_MYDRIVE = '/content/drive/MyDrive/Colab Notebooks/24年暑假科研/Skin_Conditions'\n",
        "GOOGLE_DRIVE_PATH = os.path.join('drive', 'My Drive', GOOGLE_DRIVE_PATH_AFTER_MYDRIVE)\n",
        "print(os.listdir(GOOGLE_DRIVE_PATH))"
      ]
    },
    {
      "cell_type": "code",
      "execution_count": 4,
      "id": "0d175ae6-611f-4a37-8621-fbde6fc97978",
      "metadata": {
        "id": "0d175ae6-611f-4a37-8621-fbde6fc97978"
      },
      "outputs": [],
      "source": [
        "import numpy as np\n",
        "import pandas as pd"
      ]
    },
    {
      "cell_type": "code",
      "execution_count": 5,
      "id": "8097e266-78b3-4c7c-b55f-5e7dca11e759",
      "metadata": {
        "colab": {
          "base_uri": "https://localhost:8080/"
        },
        "id": "8097e266-78b3-4c7c-b55f-5e7dca11e759",
        "outputId": "a2783b95-b43d-4950-a1aa-2c32103b205d"
      },
      "outputs": [
        {
          "output_type": "stream",
          "name": "stdout",
          "text": [
            "Found 2394 files belonging to 6 classes.\n"
          ]
        }
      ],
      "source": [
        "import tensorflow as tf\n",
        "from tensorflow.keras.preprocessing import image_dataset_from_directory\n",
        "\n",
        "dataset_dir = 'Skin_Conditions'\n",
        "dataset = image_dataset_from_directory(\n",
        "    GOOGLE_DRIVE_PATH,\n",
        "    labels='inferred',\n",
        "    label_mode='int',\n",
        "    image_size=(224, 224),\n",
        "    batch_size=32,\n",
        "    shuffle=True\n",
        ")\n",
        "\n",
        "def split_dataset(dataset, train_size=0.8, val_size=0.1, test_size=0.1):\n",
        "    total_size = len(dataset)\n",
        "    train_end = int(total_size * train_size)\n",
        "    val_end = train_end + int(total_size * val_size)\n",
        "\n",
        "    train_dataset = dataset.take(train_end)\n",
        "    val_dataset = dataset.skip(train_end).take(val_end - train_end)\n",
        "    test_dataset = dataset.skip(val_end)\n",
        "\n",
        "    return train_dataset, val_dataset, test_dataset\n",
        "\n",
        "train_dataset, val_dataset, test_dataset = split_dataset(dataset)"
      ]
    },
    {
      "cell_type": "code",
      "execution_count": 7,
      "id": "6c21ba51-14d6-4223-a8bd-54587060c9e9",
      "metadata": {
        "colab": {
          "base_uri": "https://localhost:8080/"
        },
        "id": "6c21ba51-14d6-4223-a8bd-54587060c9e9",
        "outputId": "d4687c8d-af85-4f87-a57f-f563756266b6"
      },
      "outputs": [
        {
          "output_type": "stream",
          "name": "stdout",
          "text": [
            "Downloading data from https://storage.googleapis.com/tensorflow/keras-applications/resnet/resnet152_weights_tf_dim_ordering_tf_kernels_notop.h5\n",
            "234698864/234698864 [==============================] - 1s 0us/step\n"
          ]
        }
      ],
      "source": [
        "from tensorflow.keras.models import Model\n",
        "from tensorflow.keras.layers import Dense, GlobalAveragePooling2D, Dropout\n",
        "from tensorflow.keras.applications import ResNet152\n",
        "\n",
        "base_model = ResNet152(weights='imagenet', include_top=False, input_shape=(224, 224, 3))\n",
        "base_model.trainable = False\n",
        "x = base_model.output\n",
        "x = GlobalAveragePooling2D()(x)\n",
        "x = Dense(1024, activation='relu')(x)\n",
        "x = Dropout(0.5)(x)\n",
        "predictions = Dense(6, activation='softmax')(x)\n",
        "\n",
        "model = Model(inputs=base_model.input, outputs=predictions)\n",
        "model.compile(optimizer=tf.keras.optimizers.Adam(learning_rate=1e-4),\n",
        "              loss='sparse_categorical_crossentropy',\n",
        "              metrics=['accuracy'])"
      ]
    },
    {
      "cell_type": "code",
      "execution_count": 8,
      "id": "3fad5995-275b-4c7c-bd3a-5e6618df80d6",
      "metadata": {
        "colab": {
          "base_uri": "https://localhost:8080/"
        },
        "id": "3fad5995-275b-4c7c-bd3a-5e6618df80d6",
        "outputId": "5e35412e-e617-45f1-aa56-f8f6878ca261"
      },
      "outputs": [
        {
          "output_type": "stream",
          "name": "stdout",
          "text": [
            "Epoch 1/20\n",
            "60/60 [==============================] - 95s 1s/step - loss: 1.4487 - accuracy: 0.4797 - val_loss: 0.7404 - val_accuracy: 0.7366\n",
            "Epoch 2/20\n",
            "60/60 [==============================] - 78s 1s/step - loss: 0.7848 - accuracy: 0.7156 - val_loss: 0.5026 - val_accuracy: 0.8348\n",
            "Epoch 3/20\n",
            "60/60 [==============================] - 75s 1s/step - loss: 0.6677 - accuracy: 0.7583 - val_loss: 0.5793 - val_accuracy: 0.7812\n",
            "Epoch 4/20\n",
            "60/60 [==============================] - 77s 1s/step - loss: 0.5552 - accuracy: 0.8089 - val_loss: 0.4686 - val_accuracy: 0.8393\n",
            "Epoch 5/20\n",
            "60/60 [==============================] - 78s 1s/step - loss: 0.4973 - accuracy: 0.8255 - val_loss: 0.4143 - val_accuracy: 0.8616\n",
            "Epoch 6/20\n",
            "60/60 [==============================] - 77s 1s/step - loss: 0.4456 - accuracy: 0.8396 - val_loss: 0.3257 - val_accuracy: 0.8795\n",
            "Epoch 7/20\n",
            "60/60 [==============================] - 77s 1s/step - loss: 0.4189 - accuracy: 0.8510 - val_loss: 0.3720 - val_accuracy: 0.8661\n",
            "Epoch 8/20\n",
            "60/60 [==============================] - 78s 1s/step - loss: 0.3607 - accuracy: 0.8740 - val_loss: 0.3389 - val_accuracy: 0.8661\n",
            "Epoch 9/20\n",
            "60/60 [==============================] - 76s 1s/step - loss: 0.3202 - accuracy: 0.8917 - val_loss: 0.4340 - val_accuracy: 0.8482\n",
            "Epoch 10/20\n",
            "60/60 [==============================] - 76s 1s/step - loss: 0.3341 - accuracy: 0.8833 - val_loss: 0.2551 - val_accuracy: 0.9018\n",
            "Epoch 11/20\n",
            "60/60 [==============================] - 76s 1s/step - loss: 0.3120 - accuracy: 0.8938 - val_loss: 0.3086 - val_accuracy: 0.8750\n",
            "Epoch 12/20\n",
            "60/60 [==============================] - 74s 1s/step - loss: 0.2762 - accuracy: 0.9062 - val_loss: 0.2473 - val_accuracy: 0.9107\n",
            "Epoch 13/20\n",
            "60/60 [==============================] - 76s 1s/step - loss: 0.2658 - accuracy: 0.9104 - val_loss: 0.2832 - val_accuracy: 0.9062\n",
            "Epoch 14/20\n",
            "60/60 [==============================] - 76s 1s/step - loss: 0.2490 - accuracy: 0.9146 - val_loss: 0.2416 - val_accuracy: 0.8973\n",
            "Epoch 15/20\n",
            "60/60 [==============================] - 76s 1s/step - loss: 0.2176 - accuracy: 0.9359 - val_loss: 0.2230 - val_accuracy: 0.9196\n",
            "Epoch 16/20\n",
            "60/60 [==============================] - 77s 1s/step - loss: 0.2218 - accuracy: 0.9297 - val_loss: 0.3103 - val_accuracy: 0.8839\n",
            "Epoch 17/20\n",
            "60/60 [==============================] - 76s 1s/step - loss: 0.2173 - accuracy: 0.9297 - val_loss: 0.2460 - val_accuracy: 0.9241\n",
            "Epoch 18/20\n",
            "60/60 [==============================] - 75s 1s/step - loss: 0.2186 - accuracy: 0.9271 - val_loss: 0.2466 - val_accuracy: 0.9062\n",
            "Epoch 19/20\n",
            "60/60 [==============================] - 77s 1s/step - loss: 0.1880 - accuracy: 0.9417 - val_loss: 0.1840 - val_accuracy: 0.9420\n",
            "Epoch 20/20\n",
            "60/60 [==============================] - 77s 1s/step - loss: 0.1848 - accuracy: 0.9359 - val_loss: 0.2020 - val_accuracy: 0.9375\n"
          ]
        }
      ],
      "source": [
        "from tensorflow.keras.layers import RandomFlip, RandomRotation, RandomZoom\n",
        "\n",
        "data_augmentation = tf.keras.Sequential([\n",
        "    RandomFlip(\"horizontal\"),\n",
        "    RandomRotation(0.1),\n",
        "    RandomZoom(0.1)\n",
        "])\n",
        "\n",
        "def augment_data(dataset):\n",
        "    def augment(image, label):\n",
        "        image = data_augmentation(image)\n",
        "        return image, label\n",
        "\n",
        "    return dataset.map(augment)\n",
        "\n",
        "train_dataset = augment_data(train_dataset)\n",
        "\n",
        "history = model.fit(\n",
        "    train_dataset,\n",
        "    validation_data=val_dataset,\n",
        "    epochs=20,\n",
        "    batch_size=32\n",
        ")"
      ]
    },
    {
      "cell_type": "code",
      "execution_count": 9,
      "id": "947785d9-be19-4767-93bd-1e41b5b580b6",
      "metadata": {
        "colab": {
          "base_uri": "https://localhost:8080/"
        },
        "id": "947785d9-be19-4767-93bd-1e41b5b580b6",
        "outputId": "9c865744-2cce-413a-ae3c-0e28657d5486"
      },
      "outputs": [
        {
          "output_type": "stream",
          "name": "stdout",
          "text": [
            "8/8 [==============================] - 12s 1s/step - loss: 0.2490 - accuracy: 0.9240\n",
            "Test Accuracy: 0.9240\n"
          ]
        }
      ],
      "source": [
        "test_loss, test_acc = model.evaluate(test_dataset)\n",
        "print(f\"Test Accuracy: {test_acc:.4f}\")"
      ]
    },
    {
      "cell_type": "code",
      "source": [
        "from sklearn.metrics import accuracy_score, precision_score, recall_score, f1_score, classification_report\n",
        "# Predictions on test dataset\n",
        "y_true = []\n",
        "y_pred = []\n",
        "\n",
        "for images, labels in test_dataset:\n",
        "    preds = model.predict(images)\n",
        "    y_true.extend(labels.numpy())\n",
        "    y_pred.extend(np.argmax(preds, axis=1))\n",
        "\n",
        "# Calculate precision, recall, F1-score, and accuracy\n",
        "accuracy = accuracy_score(y_true, y_pred)\n",
        "precision = precision_score(y_true, y_pred, average='weighted')\n",
        "recall = recall_score(y_true, y_pred, average='weighted')\n",
        "f1 = f1_score(y_true, y_pred, average='weighted')\n",
        "\n",
        "print(f\"Accuracy: {accuracy:.4f}\")\n",
        "print(f\"Precision: {precision:.4f}\")\n",
        "print(f\"Recall: {recall:.4f}\")\n",
        "print(f\"F1 Score: {f1:.4f}\")\n",
        "\n",
        "# Print the classification report for more details\n",
        "print(\"\\nClassification Report:\")\n",
        "print(classification_report(y_true, y_pred, target_names=['Acne', 'Carcinoma', 'Eczema', 'Keratosis', 'Milia', 'Rosacea']))"
      ],
      "metadata": {
        "colab": {
          "base_uri": "https://localhost:8080/"
        },
        "id": "FWmWlhXHhWP2",
        "outputId": "607f5483-17b1-4af0-fec1-ff7437eec0a4"
      },
      "id": "FWmWlhXHhWP2",
      "execution_count": 10,
      "outputs": [
        {
          "output_type": "stream",
          "name": "stdout",
          "text": [
            "1/1 [==============================] - 4s 4s/step\n",
            "1/1 [==============================] - 1s 1s/step\n",
            "1/1 [==============================] - 1s 1s/step\n",
            "1/1 [==============================] - 1s 1s/step\n",
            "1/1 [==============================] - 1s 1s/step\n",
            "1/1 [==============================] - 1s 1s/step\n",
            "1/1 [==============================] - 1s 1s/step\n",
            "1/1 [==============================] - 4s 4s/step\n",
            "Accuracy: 0.9160\n",
            "Precision: 0.9240\n",
            "Recall: 0.9160\n",
            "F1 Score: 0.9162\n",
            "\n",
            "Classification Report:\n",
            "              precision    recall  f1-score   support\n",
            "\n",
            "        Acne       0.76      0.95      0.85        41\n",
            "   Carcinoma       0.98      0.98      0.98        47\n",
            "      Eczema       0.90      0.80      0.84        44\n",
            "   Keratosis       1.00      1.00      1.00        34\n",
            "       Milia       1.00      0.81      0.89        36\n",
            "     Rosacea       0.92      0.96      0.94        48\n",
            "\n",
            "    accuracy                           0.92       250\n",
            "   macro avg       0.93      0.91      0.92       250\n",
            "weighted avg       0.92      0.92      0.92       250\n",
            "\n"
          ]
        }
      ]
    }
  ],
  "metadata": {
    "colab": {
      "provenance": [],
      "gpuType": "V28"
    },
    "kernelspec": {
      "display_name": "TensorFlow Environment",
      "language": "python",
      "name": "tflowenv"
    },
    "language_info": {
      "codemirror_mode": {
        "name": "ipython",
        "version": 3
      },
      "file_extension": ".py",
      "mimetype": "text/x-python",
      "name": "python",
      "nbconvert_exporter": "python",
      "pygments_lexer": "ipython3",
      "version": "3.11.5"
    },
    "accelerator": "TPU"
  },
  "nbformat": 4,
  "nbformat_minor": 5
}